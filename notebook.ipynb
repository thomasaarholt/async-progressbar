{
 "cells": [
  {
   "cell_type": "code",
   "execution_count": null,
   "id": "ad89fe4a",
   "metadata": {},
   "outputs": [],
   "source": [
    "import asyncio\n",
    "import random\n",
    "from async_progressbar import AsyncProgressBar\n",
    "\n",
    "from aiolimiter import AsyncLimiter\n",
    "\n",
    "N = 1000\n",
    "rate_limiter = AsyncLimiter(300, 1)  # Limit to 1 request every 3 seconds\n",
    "\n",
    "progressbar1 = AsyncProgressBar(N)\n",
    "progressbar2 = AsyncProgressBar(N)\n",
    "\n",
    "await progressbar1.reset()\n",
    "await progressbar2.reset()\n",
    "\n",
    "\n",
    "\n",
    "async def request_rate_limited(i: int) -> int:\n",
    "    async with rate_limiter:\n",
    "        await progressbar1.update(1)\n",
    "        await asyncio.sleep(3 * random.random())\n",
    "        await progressbar2.update(1)\n",
    "        return i\n",
    "\n",
    "async def main():\n",
    "    requests = [request_rate_limited(i) for i in range(N)]\n",
    "    await asyncio.gather(*requests)\n",
    "\n",
    "\n",
    "await main()"
   ]
  }
 ],
 "metadata": {
  "kernelspec": {
   "display_name": "async-progressbar (3.13.2)",
   "language": "python",
   "name": "python3"
  },
  "language_info": {
   "codemirror_mode": {
    "name": "ipython",
    "version": 3
   },
   "file_extension": ".py",
   "mimetype": "text/x-python",
   "name": "python",
   "nbconvert_exporter": "python",
   "pygments_lexer": "ipython3",
   "version": "3.13.2"
  }
 },
 "nbformat": 4,
 "nbformat_minor": 5
}
